{
  "metadata": {
    "kernelspec": {
      "name": "python",
      "display_name": "Python (Pyodide)",
      "language": "python"
    },
    "language_info": {
      "codemirror_mode": {
        "name": "python",
        "version": 3
      },
      "file_extension": ".py",
      "mimetype": "text/x-python",
      "name": "python",
      "nbconvert_exporter": "python",
      "pygments_lexer": "ipython3",
      "version": "3.8"
    }
  },
  "nbformat_minor": 4,
  "nbformat": 4,
  "cells": [
    {
      "cell_type": "code",
      "source": "# My Notebook\n",
      "metadata": {
        "trusted": true
      },
      "outputs": [],
      "execution_count": null
    },
    {
      "cell_type": "code",
      "source": "## Data Science Languages\n\nWhen it comes to data science, there are several programming languages that are commonly used for data analysis, machine learning, and statistical modeling. Some of the most popular data science languages include:\n\n- **Python**: Python is one of the most widely used programming languages in data science. It has a rich ecosystem of libraries and frameworks such as Pandas, NumPy, SciPy, Matplotlib, and scikit-learn, making it a versatile choice for data analysis and machine learning tasks.\n\n- **R**: R is a programming language and environment specifically designed for statistical computing and graphics. It's commonly used in academia and research settings for data analysis, visualization, and statistical modeling.\n\n- **SQL**: SQL (Structured Query Language) is essential for working with relational databases. Data scientists often use SQL to extract, manipulate, and analyze data stored in databases.\n\n- **Julia**: Julia is a high-level, high-performance programming language designed for technical computing. It's gaining popularity in the data science community for its speed and ease of use.\n\n- **Scala**: Scala is a general-purpose programming language that runs on the Java Virtual Machine (JVM). It's often used in conjunction with Apache Spark, a distributed computing framework commonly used for big data processing and machine learning.\n\nThese are just a few examples of languages commonly used in data science. Each language has its strengths and is suited to different tasks and preferences.\n\n",
      "metadata": {
        "trusted": true
      },
      "outputs": [],
      "execution_count": null
    },
    {
      "cell_type": "code",
      "source": "## Data Science Libraries\n\nIn data science, there are numerous libraries available in various programming languages that facilitate tasks such as data manipulation, visualization, and machine learning. Here are some popular data science libraries:\n\n### Python\n\n- **NumPy**: A fundamental package for numerical computing in Python, providing support for large, multi-dimensional arrays and matrices, along with a collection of mathematical functions.\n\n- **Pandas**: A powerful library for data manipulation and analysis, offering data structures like DataFrame for handling structured data and tools for cleaning, reshaping, and exploring datasets.\n\n- **Matplotlib**: A versatile plotting library for creating static, interactive, and animated visualizations in Python.\n\n- **Seaborn**: Built on top of Matplotlib, Seaborn provides a high-level interface for creating informative statistical graphics.\n\n- **scikit-learn**: A simple and efficient tool for data mining and data analysis, offering implementations of various machine learning algorithms for classification, regression, clustering, and more.\n\n### R\n\n- **ggplot2**: A widely-used plotting system in R, known for its grammar of graphics approach to creating visually appealing and informative plots.\n\n- **dplyr**: A grammar of data manipulation, providing a set of functions for filtering, selecting, mutating, summarizing, and arranging data.\n\n- **tidyr**: Works hand-in-hand with dplyr, offering functions to reshape data into tidy formats.\n\n### Julia\n\n- **DataFrames.jl**: A package for working with tabular data structures similar to those in Python's Pandas library.\n\n- **Plots.jl**: A powerful plotting library in Julia with support for multiple backends and a simple, consistent interface.\n\n- **Flux.jl**: A flexible machine learning library in Julia for building and training neural networks.\n\n### Others\n\n- **SQLAlchemy**: A SQL toolkit and Object-Relational Mapping (ORM) library for Python, providing a way to interact with relational databases using Python.\n\n- **Apache Spark**: A fast and general-purpose cluster computing system with APIs for Python, Scala, and Java. It's commonly used for big data processing and machine learning tasks.\n\nThese are just a few examples of data science libraries available across different programming languages. Depending on your needs and preferences, you may find other libraries that suit your specific requirements.\n",
      "metadata": {
        "trusted": true
      },
      "outputs": [
        {
          "ename": "<class 'SyntaxError'>",
          "evalue": "unterminated string literal (detected at line 27) (<ipython-input-1-deec91620fc2>, line 27)",
          "traceback": [
            "\u001b[0;36m  Cell \u001b[0;32mIn[1], line 27\u001b[0;36m\u001b[0m\n\u001b[0;31m    - **DataFrames.jl**: A package for working with tabular data structures similar to those in Python's Pandas library.\u001b[0m\n\u001b[0m                                                                                                      ^\u001b[0m\n\u001b[0;31mSyntaxError\u001b[0m\u001b[0;31m:\u001b[0m unterminated string literal (detected at line 27)\n"
          ],
          "output_type": "error"
        }
      ],
      "execution_count": 1
    },
    {
      "cell_type": "code",
      "source": "## Data Science Tools\n\nIn the field of data science, there are various tools available for different tasks ranging from data manipulation and analysis to machine learning and visualization. Below is a table summarizing some popular data science tools:\n\n| Tool          | Description                                                  |\n|---------------|--------------------------------------------------------------|\n| Python        | A versatile programming language with numerous libraries for data manipulation, analysis, and machine learning. |\n| R             | A programming language and environment specifically designed for statistical computing and graphics. |\n| Julia         | A high-level, high-performance programming language for technical computing, gaining popularity in the data science community. |\n| SQL           | A language used for managing and querying relational databases, essential for extracting and manipulating structured data. |\n| Jupyter Notebook | An open-source web application that allows you to create and share documents containing live code, equations, visualizations, and narrative text. |\n| Apache Spark  | A fast and general-purpose cluster computing system with APIs for Python, Scala, and Java, commonly used for big data processing and machine learning. |\n| TensorFlow    | An open-source machine learning framework developed by Google for building and training deep learning models. |\n| PyTorch       | An open-source machine learning library developed by Facebook's AI Research lab, known for its dynamic computation graph and ease of use. |\n| scikit-learn  | A simple and efficient tool for data mining and data analysis in Python, offering implementations of various machine learning algorithms. |\n| Pandas        | A powerful data manipulation and analysis library in Python, providing data structures like DataFrame for working with structured data. |\n| NumPy         | A fundamental package for numerical computing in Python, providing support for large, multi-dimensional arrays and matrices. |\n| Matplotlib    | A versatile plotting library for creating static, interactive, and animated visualizations in Python. |\n| ggplot2       | A widely-used plotting system in R, known for its grammar of graphics approach to creating visually appealing and informative plots. |\n| dplyr         | A grammar of data manipulation in R, providing a set of functions for filtering, selecting, mutating, summarizing, and arranging data. |\n| DataFrames.jl | A package for working with tabular data structures in Julia, similar to Pandas in Python. |\n\nThis table provides a brief overview of some commonly used tools in data science. Depending on your specific needs and preferences, you may find other tools that suit your requirements.\n",
      "metadata": {
        "trusted": true
      },
      "outputs": [],
      "execution_count": null
    },
    {
      "cell_type": "code",
      "source": "## Arithmetic Expression Examples\n\nIn this section, we'll explore various arithmetic expressions using Python. Arithmetic expressions involve mathematical operations such as addition, subtraction, multiplication, and division. Python provides built-in operators for performing these operations, making it easy to perform numerical computations.\n\nLet's start with some basic examples:\n\n1. **Addition**: Adding two numbers together.\n   ```python\n   result = 10 + 5\n   print(result)  # Output: 15\n\nresult = 20 - 8\nprint(result)  # Output: 12\n\nresult = 6 * 4\nprint(result)  # Output: 24\n\nresult = 2 ** 3\nprint(result)  # Output: 8\n\nresult = 10 % 3\nprint(result)  # Output: 1\n\n\n",
      "metadata": {
        "trusted": true
      },
      "outputs": [],
      "execution_count": null
    },
    {
      "cell_type": "code",
      "source": "# Multiplication\nresult_multiply = 5 * 3\nprint(\"Result of multiplication:\", result_multiply)\n\n# Addition\nresult_addition = 5 + 3\nprint(\"Result of addition:\", result_addition)\n",
      "metadata": {
        "trusted": true
      },
      "outputs": [],
      "execution_count": null
    },
    {
      "cell_type": "code",
      "source": "# Define the number of minutes\nminutes = 120\n\n# Convert minutes to hours\nhours = minutes / 60\n\n# Print the result\nprint(minutes, \"minutes is equal to\", hours, \"hours\")\n",
      "metadata": {
        "trusted": true
      },
      "outputs": [],
      "execution_count": null
    },
    {
      "cell_type": "code",
      "source": "## Objectives\n\nIn this notebook, we aim to accomplish the following objectives:\n\n- Learn how to perform basic arithmetic operations in Python.\n- Understand how to convert units of measurement, such as minutes to hours.\n- Explore various data science libraries and their functionalities.\n- Gain familiarity with JupyterLab and its features for interactive computing.\n- Practice writing Markdown cells for documentation and explanations.\n",
      "metadata": {
        "trusted": true
      },
      "outputs": [],
      "execution_count": null
    },
    {
      "cell_type": "code",
      "source": "## Author\n\nThis notebook was created by **Kevin**.\n",
      "metadata": {
        "trusted": true
      },
      "outputs": [],
      "execution_count": null
    },
    {
      "cell_type": "code",
      "source": "",
      "metadata": {
        "trusted": true
      },
      "outputs": [],
      "execution_count": null
    }
  ]
}